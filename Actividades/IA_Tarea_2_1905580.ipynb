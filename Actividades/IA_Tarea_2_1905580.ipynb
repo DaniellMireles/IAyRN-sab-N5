{
  "nbformat": 4,
  "nbformat_minor": 0,
  "metadata": {
    "colab": {
      "provenance": []
    },
    "kernelspec": {
      "name": "python3",
      "display_name": "Python 3"
    },
    "language_info": {
      "name": "python"
    }
  },
  "cells": [
    {
      "cell_type": "code",
      "execution_count": null,
      "metadata": {
        "id": "N2NQ7AnuFOWg"
      },
      "outputs": [],
      "source": [
        "#      Daniel Alejandro Mireles Flores      1905580     IMT\n",
        "#       IA y RN     Gpo 002   Hora N1  Act2. Ejercicios de Python\n",
        "\n",
        "# Desarrolla un algoritmo que le pida al usuario por su nombre y que lo salude con su nombre, excepto si se llama “Ana”, “Juan”, y “Pedro”.\n",
        "\n",
        "nombre=input(\"Cual es tu nombre: \")\n",
        "if (nombre==\"Ana\"  or nombre==\"Juan\" or nombre==\"Pedro\"):\n",
        "  print(\"Error\")\n",
        "else:\n",
        "    print(\"Hola,\"+ nombre)\n",
        "\n"
      ]
    },
    {
      "cell_type": "code",
      "source": [
        "#      Daniel Alejandro Mireles Flores      1905580     IMT\n",
        "#       IA y RN     Gpo 002  Hora N1   Act2. Ejercicios de Python\n",
        "\n",
        "# Desarrolla un algoritmo que por medio de una función, le pida al usuario una lista de N elementos y como resultado invierta el sentido de la lista.\n",
        "\n",
        "lista=[]\n",
        "\n",
        "print(\"¿Cuantos elementos tendra la lista?\")\n",
        "num= int(input())\n",
        "i=0\n",
        "while i<num:\n",
        "    print(\"Ingrese un elemento\",i+1)\n",
        "    elem= input()\n",
        "    lista.append(elem)\n",
        "    i+=1\n",
        "lista.reverse()\n",
        "print(lista)\n",
        "\n",
        "68"
      ],
      "metadata": {
        "id": "6WvOnIENF5nS"
      },
      "execution_count": null,
      "outputs": []
    },
    {
      "cell_type": "code",
      "source": [
        "\n",
        "#      Daniel Alejandro Mireles Flores      1905580     IMT\n",
        "#       IA y RN     Gpo 002  Hora N1   Act2. Ejercicios de Python\n",
        "\n",
        "#Desarrolla un algoritmo que le pregunte al usuario cuántos números de la serie de Fibonnaci quiere generar y que al final los imprima.\n",
        "\n",
        "x=0\n",
        "y=1\n",
        "z=0\n",
        "while True:\n",
        "    n=int(input(\"¿cuántos números de la serie de Fibonnaci quiere generar?\"))\n",
        "    if n>0:\n",
        "        break\n",
        "print(\"1\",end=\" \")\n",
        "for i in range(0,n):\n",
        "    z=x+y\n",
        "    print(f\"{z}\",end=\" \")\n",
        "    x=y\n",
        "    y=z\n",
        "print(\"\")\n",
        "\n"
      ],
      "metadata": {
        "id": "6j1rvHOPGDyy"
      },
      "execution_count": null,
      "outputs": []
    }
  ]
}